{
 "cells": [
  {
   "cell_type": "markdown",
   "id": "50b22969",
   "metadata": {},
   "source": [
    "First, we want to do some exploratory data analysis ןn order to understand the problem.\n",
    "We need the Pandas & Numpy libraries to read the data in and manipulate it, Seaborn & Matplotlib for visualization and Scipy for statistical tests. "
   ]
  },
  {
   "cell_type": "code",
   "execution_count": 1,
   "id": "dc02afc3",
   "metadata": {},
   "outputs": [],
   "source": [
    "import os\n",
    "import pandas as pd\n",
    "import seaborn as sns\n",
    "import numpy as np\n",
    "import matplotlib.pyplot as plt\n",
    "from scipy.stats import chi2_contingency"
   ]
  },
  {
   "cell_type": "markdown",
   "id": "898ab058",
   "metadata": {},
   "source": [
    "We read the data in:"
   ]
  },
  {
   "cell_type": "code",
   "execution_count": 2,
   "id": "fd7cba68",
   "metadata": {},
   "outputs": [],
   "source": [
    "os.chdir('C:\\\\Users\\ordav\\Desktop\\kaggle')\n",
    "train = pd.read_csv('train.csv')\n",
    "test = pd.read_csv('test.csv')"
   ]
  },
  {
   "cell_type": "markdown",
   "id": "1a2b818e",
   "metadata": {},
   "source": [
    "\n",
    "Start with looking at data:"
   ]
  },
  {
   "cell_type": "code",
   "execution_count": 3,
   "id": "744f9a42",
   "metadata": {},
   "outputs": [
    {
     "data": {
      "text/html": [
       "<div>\n",
       "<style scoped>\n",
       "    .dataframe tbody tr th:only-of-type {\n",
       "        vertical-align: middle;\n",
       "    }\n",
       "\n",
       "    .dataframe tbody tr th {\n",
       "        vertical-align: top;\n",
       "    }\n",
       "\n",
       "    .dataframe thead th {\n",
       "        text-align: right;\n",
       "    }\n",
       "</style>\n",
       "<table border=\"1\" class=\"dataframe\">\n",
       "  <thead>\n",
       "    <tr style=\"text-align: right;\">\n",
       "      <th></th>\n",
       "      <th>PassengerId</th>\n",
       "      <th>Survived</th>\n",
       "      <th>Pclass</th>\n",
       "      <th>Name</th>\n",
       "      <th>Sex</th>\n",
       "      <th>Age</th>\n",
       "      <th>SibSp</th>\n",
       "      <th>Parch</th>\n",
       "      <th>Ticket</th>\n",
       "      <th>Fare</th>\n",
       "      <th>Cabin</th>\n",
       "      <th>Embarked</th>\n",
       "    </tr>\n",
       "  </thead>\n",
       "  <tbody>\n",
       "    <tr>\n",
       "      <th>0</th>\n",
       "      <td>1</td>\n",
       "      <td>0</td>\n",
       "      <td>3</td>\n",
       "      <td>Braund, Mr. Owen Harris</td>\n",
       "      <td>male</td>\n",
       "      <td>22.0</td>\n",
       "      <td>1</td>\n",
       "      <td>0</td>\n",
       "      <td>A/5 21171</td>\n",
       "      <td>7.2500</td>\n",
       "      <td>NaN</td>\n",
       "      <td>S</td>\n",
       "    </tr>\n",
       "    <tr>\n",
       "      <th>1</th>\n",
       "      <td>2</td>\n",
       "      <td>1</td>\n",
       "      <td>1</td>\n",
       "      <td>Cumings, Mrs. John Bradley (Florence Briggs Th...</td>\n",
       "      <td>female</td>\n",
       "      <td>38.0</td>\n",
       "      <td>1</td>\n",
       "      <td>0</td>\n",
       "      <td>PC 17599</td>\n",
       "      <td>71.2833</td>\n",
       "      <td>C85</td>\n",
       "      <td>C</td>\n",
       "    </tr>\n",
       "    <tr>\n",
       "      <th>2</th>\n",
       "      <td>3</td>\n",
       "      <td>1</td>\n",
       "      <td>3</td>\n",
       "      <td>Heikkinen, Miss. Laina</td>\n",
       "      <td>female</td>\n",
       "      <td>26.0</td>\n",
       "      <td>0</td>\n",
       "      <td>0</td>\n",
       "      <td>STON/O2. 3101282</td>\n",
       "      <td>7.9250</td>\n",
       "      <td>NaN</td>\n",
       "      <td>S</td>\n",
       "    </tr>\n",
       "    <tr>\n",
       "      <th>3</th>\n",
       "      <td>4</td>\n",
       "      <td>1</td>\n",
       "      <td>1</td>\n",
       "      <td>Futrelle, Mrs. Jacques Heath (Lily May Peel)</td>\n",
       "      <td>female</td>\n",
       "      <td>35.0</td>\n",
       "      <td>1</td>\n",
       "      <td>0</td>\n",
       "      <td>113803</td>\n",
       "      <td>53.1000</td>\n",
       "      <td>C123</td>\n",
       "      <td>S</td>\n",
       "    </tr>\n",
       "    <tr>\n",
       "      <th>4</th>\n",
       "      <td>5</td>\n",
       "      <td>0</td>\n",
       "      <td>3</td>\n",
       "      <td>Allen, Mr. William Henry</td>\n",
       "      <td>male</td>\n",
       "      <td>35.0</td>\n",
       "      <td>0</td>\n",
       "      <td>0</td>\n",
       "      <td>373450</td>\n",
       "      <td>8.0500</td>\n",
       "      <td>NaN</td>\n",
       "      <td>S</td>\n",
       "    </tr>\n",
       "  </tbody>\n",
       "</table>\n",
       "</div>"
      ],
      "text/plain": [
       "   PassengerId  Survived  Pclass  \\\n",
       "0            1         0       3   \n",
       "1            2         1       1   \n",
       "2            3         1       3   \n",
       "3            4         1       1   \n",
       "4            5         0       3   \n",
       "\n",
       "                                                Name     Sex   Age  SibSp  \\\n",
       "0                            Braund, Mr. Owen Harris    male  22.0      1   \n",
       "1  Cumings, Mrs. John Bradley (Florence Briggs Th...  female  38.0      1   \n",
       "2                             Heikkinen, Miss. Laina  female  26.0      0   \n",
       "3       Futrelle, Mrs. Jacques Heath (Lily May Peel)  female  35.0      1   \n",
       "4                           Allen, Mr. William Henry    male  35.0      0   \n",
       "\n",
       "   Parch            Ticket     Fare Cabin Embarked  \n",
       "0      0         A/5 21171   7.2500   NaN        S  \n",
       "1      0          PC 17599  71.2833   C85        C  \n",
       "2      0  STON/O2. 3101282   7.9250   NaN        S  \n",
       "3      0            113803  53.1000  C123        S  \n",
       "4      0            373450   8.0500   NaN        S  "
      ]
     },
     "execution_count": 3,
     "metadata": {},
     "output_type": "execute_result"
    }
   ],
   "source": [
    "train.head()"
   ]
  },
  {
   "cell_type": "code",
   "execution_count": 4,
   "id": "9b1570cb",
   "metadata": {},
   "outputs": [
    {
     "data": {
      "text/html": [
       "<div>\n",
       "<style scoped>\n",
       "    .dataframe tbody tr th:only-of-type {\n",
       "        vertical-align: middle;\n",
       "    }\n",
       "\n",
       "    .dataframe tbody tr th {\n",
       "        vertical-align: top;\n",
       "    }\n",
       "\n",
       "    .dataframe thead th {\n",
       "        text-align: right;\n",
       "    }\n",
       "</style>\n",
       "<table border=\"1\" class=\"dataframe\">\n",
       "  <thead>\n",
       "    <tr style=\"text-align: right;\">\n",
       "      <th></th>\n",
       "      <th>PassengerId</th>\n",
       "      <th>Survived</th>\n",
       "      <th>Pclass</th>\n",
       "      <th>Age</th>\n",
       "      <th>SibSp</th>\n",
       "      <th>Parch</th>\n",
       "      <th>Fare</th>\n",
       "    </tr>\n",
       "  </thead>\n",
       "  <tbody>\n",
       "    <tr>\n",
       "      <th>count</th>\n",
       "      <td>891.000000</td>\n",
       "      <td>891.000000</td>\n",
       "      <td>891.000000</td>\n",
       "      <td>714.000000</td>\n",
       "      <td>891.000000</td>\n",
       "      <td>891.000000</td>\n",
       "      <td>891.000000</td>\n",
       "    </tr>\n",
       "    <tr>\n",
       "      <th>mean</th>\n",
       "      <td>446.000000</td>\n",
       "      <td>0.383838</td>\n",
       "      <td>2.308642</td>\n",
       "      <td>29.699118</td>\n",
       "      <td>0.523008</td>\n",
       "      <td>0.381594</td>\n",
       "      <td>32.204208</td>\n",
       "    </tr>\n",
       "    <tr>\n",
       "      <th>std</th>\n",
       "      <td>257.353842</td>\n",
       "      <td>0.486592</td>\n",
       "      <td>0.836071</td>\n",
       "      <td>14.526497</td>\n",
       "      <td>1.102743</td>\n",
       "      <td>0.806057</td>\n",
       "      <td>49.693429</td>\n",
       "    </tr>\n",
       "    <tr>\n",
       "      <th>min</th>\n",
       "      <td>1.000000</td>\n",
       "      <td>0.000000</td>\n",
       "      <td>1.000000</td>\n",
       "      <td>0.420000</td>\n",
       "      <td>0.000000</td>\n",
       "      <td>0.000000</td>\n",
       "      <td>0.000000</td>\n",
       "    </tr>\n",
       "    <tr>\n",
       "      <th>25%</th>\n",
       "      <td>223.500000</td>\n",
       "      <td>0.000000</td>\n",
       "      <td>2.000000</td>\n",
       "      <td>20.125000</td>\n",
       "      <td>0.000000</td>\n",
       "      <td>0.000000</td>\n",
       "      <td>7.910400</td>\n",
       "    </tr>\n",
       "    <tr>\n",
       "      <th>50%</th>\n",
       "      <td>446.000000</td>\n",
       "      <td>0.000000</td>\n",
       "      <td>3.000000</td>\n",
       "      <td>28.000000</td>\n",
       "      <td>0.000000</td>\n",
       "      <td>0.000000</td>\n",
       "      <td>14.454200</td>\n",
       "    </tr>\n",
       "    <tr>\n",
       "      <th>75%</th>\n",
       "      <td>668.500000</td>\n",
       "      <td>1.000000</td>\n",
       "      <td>3.000000</td>\n",
       "      <td>38.000000</td>\n",
       "      <td>1.000000</td>\n",
       "      <td>0.000000</td>\n",
       "      <td>31.000000</td>\n",
       "    </tr>\n",
       "    <tr>\n",
       "      <th>max</th>\n",
       "      <td>891.000000</td>\n",
       "      <td>1.000000</td>\n",
       "      <td>3.000000</td>\n",
       "      <td>80.000000</td>\n",
       "      <td>8.000000</td>\n",
       "      <td>6.000000</td>\n",
       "      <td>512.329200</td>\n",
       "    </tr>\n",
       "  </tbody>\n",
       "</table>\n",
       "</div>"
      ],
      "text/plain": [
       "       PassengerId    Survived      Pclass         Age       SibSp  \\\n",
       "count   891.000000  891.000000  891.000000  714.000000  891.000000   \n",
       "mean    446.000000    0.383838    2.308642   29.699118    0.523008   \n",
       "std     257.353842    0.486592    0.836071   14.526497    1.102743   \n",
       "min       1.000000    0.000000    1.000000    0.420000    0.000000   \n",
       "25%     223.500000    0.000000    2.000000   20.125000    0.000000   \n",
       "50%     446.000000    0.000000    3.000000   28.000000    0.000000   \n",
       "75%     668.500000    1.000000    3.000000   38.000000    1.000000   \n",
       "max     891.000000    1.000000    3.000000   80.000000    8.000000   \n",
       "\n",
       "            Parch        Fare  \n",
       "count  891.000000  891.000000  \n",
       "mean     0.381594   32.204208  \n",
       "std      0.806057   49.693429  \n",
       "min      0.000000    0.000000  \n",
       "25%      0.000000    7.910400  \n",
       "50%      0.000000   14.454200  \n",
       "75%      0.000000   31.000000  \n",
       "max      6.000000  512.329200  "
      ]
     },
     "execution_count": 4,
     "metadata": {},
     "output_type": "execute_result"
    }
   ],
   "source": [
    "train.describe()"
   ]
  },
  {
   "cell_type": "markdown",
   "id": "90a7184f",
   "metadata": {},
   "source": [
    "We seperate the predictors from the target variable \"Survived\""
   ]
  },
  {
   "cell_type": "code",
   "execution_count": 5,
   "id": "5d497420",
   "metadata": {},
   "outputs": [],
   "source": [
    "y_train = train['Survived']\n",
    "X_train = train.drop('Survived', axis = 1)"
   ]
  },
  {
   "cell_type": "markdown",
   "id": "40af7c1c",
   "metadata": {},
   "source": [
    "We can drop the PassangerId and Ticket columns which can not help us with prediction. We will save the passengerId column for later, it is part of the submission format."
   ]
  },
  {
   "cell_type": "code",
   "execution_count": 6,
   "id": "1f97428c",
   "metadata": {},
   "outputs": [],
   "source": [
    "X_train = X_train.drop(['PassengerId', 'Ticket'], axis = 1)\n",
    "test_id = test['PassengerId']\n",
    "test = test.drop(['PassengerId', 'Ticket'], axis = 1)"
   ]
  },
  {
   "cell_type": "markdown",
   "id": "2713cf59",
   "metadata": {},
   "source": [
    "Looking for Null values"
   ]
  },
  {
   "cell_type": "code",
   "execution_count": 7,
   "id": "5ce70710",
   "metadata": {},
   "outputs": [
    {
     "data": {
      "text/plain": [
       "Pclass        0\n",
       "Name          0\n",
       "Sex           0\n",
       "Age         177\n",
       "SibSp         0\n",
       "Parch         0\n",
       "Fare          0\n",
       "Cabin       687\n",
       "Embarked      2\n",
       "dtype: int64"
      ]
     },
     "execution_count": 7,
     "metadata": {},
     "output_type": "execute_result"
    }
   ],
   "source": [
    "X_train.isna().sum()"
   ]
  },
  {
   "cell_type": "code",
   "execution_count": 8,
   "id": "2ce32e3f",
   "metadata": {},
   "outputs": [
    {
     "data": {
      "text/plain": [
       "Pclass        0\n",
       "Name          0\n",
       "Sex           0\n",
       "Age          86\n",
       "SibSp         0\n",
       "Parch         0\n",
       "Fare          1\n",
       "Cabin       327\n",
       "Embarked      0\n",
       "dtype: int64"
      ]
     },
     "execution_count": 8,
     "metadata": {},
     "output_type": "execute_result"
    }
   ],
   "source": [
    "test.isna().sum()"
   ]
  },
  {
   "cell_type": "markdown",
   "id": "473dfb0d",
   "metadata": {},
   "source": [
    "We see that for the 'Cabin' feature, 687/891 entries are missing, this proportion is too large in order to fill with high enough certainty. It is better to discard this feature."
   ]
  },
  {
   "cell_type": "code",
   "execution_count": 9,
   "id": "a67f68f3",
   "metadata": {},
   "outputs": [],
   "source": [
    "X_train = X_train.drop('Cabin', axis = 1)\n",
    "test = test.drop('Cabin', axis = 1)"
   ]
  },
  {
   "cell_type": "markdown",
   "id": "0d4ca866",
   "metadata": {},
   "source": [
    "Lets have a look at the 'Embarked' column."
   ]
  },
  {
   "cell_type": "code",
   "execution_count": 10,
   "id": "3e42a76a",
   "metadata": {},
   "outputs": [
    {
     "data": {
      "text/plain": [
       "S    644\n",
       "C    168\n",
       "Q     77\n",
       "Name: Embarked, dtype: int64"
      ]
     },
     "execution_count": 10,
     "metadata": {},
     "output_type": "execute_result"
    }
   ],
   "source": [
    "train.Embarked.value_counts()"
   ]
  },
  {
   "cell_type": "markdown",
   "id": "282038d5",
   "metadata": {},
   "source": [
    "Each passenger can get 1 of 3 values.\n",
    "We will fill the missing values in the 'Embarked' column with its mode."
   ]
  },
  {
   "cell_type": "code",
   "execution_count": 11,
   "id": "e3a5567d",
   "metadata": {},
   "outputs": [],
   "source": [
    "X_train['Embarked'] = X_train['Embarked'].fillna(X_train['Embarked'].mode()[0])"
   ]
  },
  {
   "cell_type": "markdown",
   "id": "d2296b2b",
   "metadata": {},
   "source": [
    "In order to fill missing value for 'Fare' in the test data, we will use the median fare of the class the passenger traveled in."
   ]
  },
  {
   "cell_type": "code",
   "execution_count": 12,
   "id": "e9ca7b5f",
   "metadata": {},
   "outputs": [
    {
     "data": {
      "text/plain": [
       "152    3\n",
       "Name: Pclass, dtype: int64"
      ]
     },
     "execution_count": 12,
     "metadata": {},
     "output_type": "execute_result"
    }
   ],
   "source": [
    "test['Pclass'][test['Fare'].isna()]"
   ]
  },
  {
   "cell_type": "code",
   "execution_count": 13,
   "id": "676a0e67",
   "metadata": {},
   "outputs": [],
   "source": [
    "test['Fare'] = test['Fare'].fillna(train[train['Pclass'] == 3]['Fare'].median())"
   ]
  },
  {
   "cell_type": "markdown",
   "id": "e0bedfcd",
   "metadata": {},
   "source": [
    "Lets try and find a connection between the class and the probability of survival."
   ]
  },
  {
   "cell_type": "code",
   "execution_count": 14,
   "id": "6c5f544f",
   "metadata": {},
   "outputs": [
    {
     "data": {
      "text/plain": [
       "<AxesSubplot:xlabel='Pclass', ylabel='count'>"
      ]
     },
     "execution_count": 14,
     "metadata": {},
     "output_type": "execute_result"
    },
    {
     "data": {
      "image/png": "[encoded data removed]",
      "text/plain": [
       "<Figure size 432x288 with 1 Axes>"
      ]
     },
     "metadata": {
      "needs_background": "light"
     },
     "output_type": "display_data"
    }
   ],
   "source": [
    "sns.countplot(data = train, x = 'Pclass', hue = 'Survived')"
   ]
  },
  {
   "cell_type": "markdown",
   "id": "0b871fb0",
   "metadata": {},
   "source": [
    "We can easily see that the proportion of passengers who survived decreases dramtically with the class. This seems to be an important feature. We Will use it as an ordinal variable, since the order of the classes seems significant."
   ]
  },
  {
   "cell_type": "markdown",
   "id": "1c9fcd28",
   "metadata": {},
   "source": [
    "We now turn our attention to the 'Sex' feature."
   ]
  },
  {
   "cell_type": "code",
   "execution_count": 15,
   "id": "5079ed2d",
   "metadata": {},
   "outputs": [
    {
     "data": {
      "text/plain": [
       "<AxesSubplot:xlabel='Sex', ylabel='count'>"
      ]
     },
     "execution_count": 15,
     "metadata": {},
     "output_type": "execute_result"
    },
    {
     "data": {
      "image/png": "[encoded data removed]",
      "text/plain": [
       "<Figure size 432x288 with 1 Axes>"
      ]
     },
     "metadata": {
      "needs_background": "light"
     },
     "output_type": "display_data"
    }
   ],
   "source": [
    "sns.countplot(data = train, x = 'Sex', hue = 'Survived')"
   ]
  },
  {
   "cell_type": "markdown",
   "id": "ee9ca40b",
   "metadata": {},
   "source": [
    "Obviously, this feature tells us a lot about the chances a passenger survived. Women seem to survived in a much higher precentage than men did.\n",
    "We turn this feature to an indicator that the passenger is female, and drop the 'Sex' column."
   ]
  },
  {
   "cell_type": "code",
   "execution_count": 16,
   "id": "95057d36",
   "metadata": {},
   "outputs": [],
   "source": [
    "X_train['Female'] = pd.get_dummies(train['Sex'])['female']\n",
    "test['Female'] = pd.get_dummies(test['Sex'])['female']\n",
    "X_train.drop('Sex', axis = 1, inplace=True)\n",
    "test.drop('Sex', axis = 1, inplace=True)"
   ]
  },
  {
   "cell_type": "markdown",
   "id": "310bc3f6",
   "metadata": {},
   "source": [
    "We now try to find out if the port the passenger embarked on its survival probability."
   ]
  },
  {
   "cell_type": "code",
   "execution_count": 17,
   "id": "b6142e50",
   "metadata": {},
   "outputs": [
    {
     "data": {
      "text/plain": [
       "<AxesSubplot:xlabel='Embarked', ylabel='count'>"
      ]
     },
     "execution_count": 17,
     "metadata": {},
     "output_type": "execute_result"
    },
    {
     "data": {
      "image/png": "[encoded data removed]",
      "text/plain": [
       "<Figure size 432x288 with 1 Axes>"
      ]
     },
     "metadata": {
      "needs_background": "light"
     },
     "output_type": "display_data"
    }
   ],
   "source": [
    "sns.countplot(data = train, hue = 'Survived', x = 'Embarked')"
   ]
  },
  {
   "cell_type": "markdown",
   "id": "c0526b11",
   "metadata": {},
   "source": [
    "It looks like this might be helpful predictor of the survival chance, but lets try and see if this can actually be explained using a differnet feature."
   ]
  },
  {
   "cell_type": "code",
   "execution_count": 18,
   "id": "e0043c8c",
   "metadata": {},
   "outputs": [
    {
     "data": {
      "text/plain": [
       "<AxesSubplot:xlabel='Pclass', ylabel='count'>"
      ]
     },
     "execution_count": 18,
     "metadata": {},
     "output_type": "execute_result"
    },
    {
     "data": {
      "image/png": "[encoded data removed]",
      "text/plain": [
       "<Figure size 432x288 with 1 Axes>"
      ]
     },
     "metadata": {
      "needs_background": "light"
     },
     "output_type": "display_data"
    }
   ],
   "source": [
    "sns.countplot(data = train[train['Embarked'] == 'S'], hue = 'Survived', x = 'Pclass')"
   ]
  },
  {
   "cell_type": "code",
   "execution_count": 19,
   "id": "f40d37fa",
   "metadata": {},
   "outputs": [
    {
     "data": {
      "text/plain": [
       "<AxesSubplot:xlabel='Pclass', ylabel='count'>"
      ]
     },
     "execution_count": 19,
     "metadata": {},
     "output_type": "execute_result"
    },
    {
     "data": {
      "image/png": "[encoded data removed]",
      "text/plain": [
       "<Figure size 432x288 with 1 Axes>"
      ]
     },
     "metadata": {
      "needs_background": "light"
     },
     "output_type": "display_data"
    }
   ],
   "source": [
    "sns.countplot(data = train[train['Embarked'] == 'Q'], hue = 'Survived', x = 'Pclass')"
   ]
  },
  {
   "cell_type": "code",
   "execution_count": 20,
   "id": "d288d841",
   "metadata": {},
   "outputs": [
    {
     "data": {
      "text/plain": [
       "<AxesSubplot:xlabel='Pclass', ylabel='count'>"
      ]
     },
     "execution_count": 20,
     "metadata": {},
     "output_type": "execute_result"
    },
    {
     "data": {
      "image/png": "[encoded data removed]",
      "text/plain": [
       "<Figure size 432x288 with 1 Axes>"
      ]
     },
     "metadata": {
      "needs_background": "light"
     },
     "output_type": "display_data"
    }
   ],
   "source": [
    "sns.countplot(data = train[train['Embarked'] == 'C'], hue = 'Survived', x = 'Pclass')"
   ]
  },
  {
   "cell_type": "markdown",
   "id": "e15948bc",
   "metadata": {},
   "source": [
    "We will preform a Chi-Square test to try and find a dependence between the port and survival columns, in each seperate class.\n",
    "Wh actually have 3 seperate hypothesis that we test, in each the null hypothesis us that inside class i 'the 'Embarked' and 'Survived' variables are independent."
   ]
  },
  {
   "cell_type": "code",
   "execution_count": 21,
   "id": "b994f3a8",
   "metadata": {},
   "outputs": [],
   "source": [
    "from scipy.stats import chisquare"
   ]
  },
  {
   "cell_type": "code",
   "execution_count": 22,
   "id": "b728d971",
   "metadata": {},
   "outputs": [
    {
     "name": "stdout",
     "output_type": "stream",
     "text": [
      "p-value of the test to check dependence in the 1st class is: 0.2418598277637078\n"
     ]
    }
   ],
   "source": [
    "n_1_C_1 = len(train[(train['Embarked'] == 'C') & (train['Pclass'] == 1) & (train['Survived'] == 1)].index)\n",
    "n_0_C_1 = len(train[(train['Embarked'] == 'C') & (train['Pclass'] == 1) & (train['Survived'] == 0)].index)\n",
    "n_1_Q_1 = len(train[(train['Embarked'] == 'Q') & (train['Pclass'] == 1) & (train['Survived'] == 1)].index)\n",
    "n_0_Q_1 = len(train[(train['Embarked'] == 'Q') & (train['Pclass'] == 1) & (train['Survived'] == 0)].index)\n",
    "n_1_S_1 = len(train[(train['Embarked'] == 'S') & (train['Pclass'] == 1) & (train['Survived'] == 1)].index)\n",
    "n_0_S_1 = len(train[(train['Embarked'] == 'S') & (train['Pclass'] == 1) & (train['Survived'] == 0)].index)\n",
    "\n",
    "print('p-value of the test to check dependence in the 1st class is: ' + \n",
    "      str(chi2_contingency(observed=np.array([[n_0_C_1, n_0_Q_1, n_0_S_1], [n_1_C_1, n_1_Q_1, n_1_S_1]]))[1]))"
   ]
  },
  {
   "cell_type": "code",
   "execution_count": 23,
   "id": "ed399fbe",
   "metadata": {},
   "outputs": [
    {
     "name": "stdout",
     "output_type": "stream",
     "text": [
      "p-value of the test to check dependence in the 2nd class is: 0.6945854175115084\n"
     ]
    }
   ],
   "source": [
    "n_1_C_2 = len(train[(train['Embarked'] == 'C') & (train['Pclass'] == 2) & (train['Survived'] == 1)].index)\n",
    "n_0_C_2 = len(train[(train['Embarked'] == 'C') & (train['Pclass'] == 2) & (train['Survived'] == 0)].index)\n",
    "n_1_Q_2 = len(train[(train['Embarked'] == 'Q') & (train['Pclass'] == 2) & (train['Survived'] == 1)].index)\n",
    "n_0_Q_2 = len(train[(train['Embarked'] == 'Q') & (train['Pclass'] == 2) & (train['Survived'] == 0)].index)\n",
    "n_1_S_2 = len(train[(train['Embarked'] == 'S') & (train['Pclass'] == 2) & (train['Survived'] == 1)].index)\n",
    "n_0_S_2 = len(train[(train['Embarked'] == 'S') & (train['Pclass'] == 2) & (train['Survived'] == 0)].index)\n",
    "\n",
    "print('p-value of the test to check dependence in the 2nd class is: ' + \n",
    "      str(chi2_contingency(observed=np.array([[n_0_C_2, n_0_Q_2, n_0_S_2], [n_1_C_2, n_1_Q_2, n_1_S_2]]))[1]))"
   ]
  },
  {
   "cell_type": "code",
   "execution_count": 24,
   "id": "ffef83ad",
   "metadata": {},
   "outputs": [
    {
     "name": "stdout",
     "output_type": "stream",
     "text": [
      "p-value of the test to check dependence in the 3rd class is: 7.873309289379242e-05\n"
     ]
    }
   ],
   "source": [
    "n_1_C_3 = len(train[(train['Embarked'] == 'C') & (train['Pclass'] == 3) & (train['Survived'] == 1)].index)\n",
    "n_0_C_3 = len(train[(train['Embarked'] == 'C') & (train['Pclass'] == 3) & (train['Survived'] == 0)].index)\n",
    "n_1_Q_3 = len(train[(train['Embarked'] == 'Q') & (train['Pclass'] == 3) & (train['Survived'] == 1)].index)\n",
    "n_0_Q_3 = len(train[(train['Embarked'] == 'Q') & (train['Pclass'] == 3) & (train['Survived'] == 0)].index)\n",
    "n_1_S_3 = len(train[(train['Embarked'] == 'S') & (train['Pclass'] == 3) & (train['Survived'] == 1)].index)\n",
    "n_0_S_3 = len(train[(train['Embarked'] == 'S') & (train['Pclass'] == 3) & (train['Survived'] == 0)].index)\n",
    "\n",
    "print('p-value of the test to check dependence in the 3rd class is: ' + \n",
    "      str(chi2_contingency(observed=np.array([[n_0_C_3, n_0_Q_3, n_0_S_3], [n_1_C_3, n_1_Q_3, n_1_S_3]]))[1]))"
   ]
  },
  {
   "cell_type": "markdown",
   "id": "eb541903",
   "metadata": {},
   "source": [
    "If we use Holm's method for multiple tests with a FWER of 0.05, we can only reject the 3rd null hypothesis and deduce a dependence only for passengers in the 3rd class. Therfore, we will create a new feature which will indicate the port the passenger embarked in, but only for passengers in the 3rd class. It will be ordinal, since we can see the difference in survvial rate between the different classes."
   ]
  },
  {
   "cell_type": "code",
   "execution_count": 25,
   "id": "8b5534f6",
   "metadata": {},
   "outputs": [],
   "source": [
    "def third_class_ports(x,y):\n",
    "    if x == 3:\n",
    "        if y == 'C':\n",
    "            return 1\n",
    "        elif y == 'Q':\n",
    "            return 2\n",
    "        else:\n",
    "            return 3\n",
    "    else:\n",
    "        return 0\n",
    "    \n",
    "X_train['Ports3rdClass'] = X_train.apply(lambda x : third_class_ports(x['Pclass'], x['Embarked']), axis = 1)\n",
    "test['Ports3rdClass'] = test.apply(lambda x : third_class_ports(x['Pclass'], x['Embarked']), axis = 1)\n",
    "\n",
    "X_train.drop('Embarked', axis = 1, inplace = True)\n",
    "test.drop('Embarked', axis = 1, inplace = True)"
   ]
  },
  {
   "cell_type": "markdown",
   "id": "027dd83e",
   "metadata": {},
   "source": [
    "We try and understand if we can understand useful data from the name column."
   ]
  },
  {
   "cell_type": "code",
   "execution_count": 26,
   "id": "a8c5bda6",
   "metadata": {},
   "outputs": [],
   "source": [
    "train['title'] = train['Name'].apply(lambda x: x.split()[1])"
   ]
  },
  {
   "cell_type": "code",
   "execution_count": 27,
   "id": "13ba2323",
   "metadata": {},
   "outputs": [
    {
     "data": {
      "image/png": "[encoded data removed]",
      "text/plain": [
       "<Figure size 720x288 with 1 Axes>"
      ]
     },
     "metadata": {
      "needs_background": "light"
     },
     "output_type": "display_data"
    }
   ],
   "source": [
    "plt.figure(figsize=(10,4))\n",
    "\n",
    "ax = sns.countplot(data = train, x = 'title', hue = 'Survived')\n",
    "\n",
    "ax.set_xticklabels(ax.get_xticklabels(), rotation=40, ha=\"right\")\n",
    "plt.tight_layout()\n",
    "plt.show()"
   ]
  },
  {
   "cell_type": "markdown",
   "id": "dbc539b4",
   "metadata": {},
   "source": [
    "We see that there are 3 dominant classes for the passenger's title. The only significant insight I can see is that married women had a higher survival rate than not married ones, but this will actually be shown using the 'Parch', 'SibSp' & 'Age' features that we will explore later on. Therefore, we will discard this column."
   ]
  },
  {
   "cell_type": "code",
   "execution_count": 29,
   "id": "533148df",
   "metadata": {},
   "outputs": [],
   "source": [
    "X_train.drop(['Name', 'Title'], axis=1, inplace=True)\n",
    "test.drop(['Name', 'Title'], axis=1, inplace=True)"
   ]
  },
  {
   "cell_type": "code",
   "execution_count": 30,
   "id": "98ea3fce",
   "metadata": {},
   "outputs": [
    {
     "data": {
      "text/html": [
       "<div>\n",
       "<style scoped>\n",
       "    .dataframe tbody tr th:only-of-type {\n",
       "        vertical-align: middle;\n",
       "    }\n",
       "\n",
       "    .dataframe tbody tr th {\n",
       "        vertical-align: top;\n",
       "    }\n",
       "\n",
       "    .dataframe thead th {\n",
       "        text-align: right;\n",
       "    }\n",
       "</style>\n",
       "<table border=\"1\" class=\"dataframe\">\n",
       "  <thead>\n",
       "    <tr style=\"text-align: right;\">\n",
       "      <th></th>\n",
       "      <th>Pclass</th>\n",
       "      <th>Age</th>\n",
       "      <th>SibSp</th>\n",
       "      <th>Parch</th>\n",
       "      <th>Fare</th>\n",
       "      <th>Female</th>\n",
       "      <th>Ports3rdClass</th>\n",
       "      <th>MrMaster</th>\n",
       "      <th>MrsMiss</th>\n",
       "    </tr>\n",
       "  </thead>\n",
       "  <tbody>\n",
       "    <tr>\n",
       "      <th>0</th>\n",
       "      <td>3</td>\n",
       "      <td>34.5</td>\n",
       "      <td>0</td>\n",
       "      <td>0</td>\n",
       "      <td>7.8292</td>\n",
       "      <td>0</td>\n",
       "      <td>2</td>\n",
       "      <td>0</td>\n",
       "      <td>0</td>\n",
       "    </tr>\n",
       "    <tr>\n",
       "      <th>1</th>\n",
       "      <td>3</td>\n",
       "      <td>47.0</td>\n",
       "      <td>1</td>\n",
       "      <td>0</td>\n",
       "      <td>7.0000</td>\n",
       "      <td>1</td>\n",
       "      <td>3</td>\n",
       "      <td>0</td>\n",
       "      <td>1</td>\n",
       "    </tr>\n",
       "    <tr>\n",
       "      <th>2</th>\n",
       "      <td>2</td>\n",
       "      <td>62.0</td>\n",
       "      <td>0</td>\n",
       "      <td>0</td>\n",
       "      <td>9.6875</td>\n",
       "      <td>0</td>\n",
       "      <td>0</td>\n",
       "      <td>0</td>\n",
       "      <td>0</td>\n",
       "    </tr>\n",
       "    <tr>\n",
       "      <th>3</th>\n",
       "      <td>3</td>\n",
       "      <td>27.0</td>\n",
       "      <td>0</td>\n",
       "      <td>0</td>\n",
       "      <td>8.6625</td>\n",
       "      <td>0</td>\n",
       "      <td>3</td>\n",
       "      <td>0</td>\n",
       "      <td>0</td>\n",
       "    </tr>\n",
       "    <tr>\n",
       "      <th>4</th>\n",
       "      <td>3</td>\n",
       "      <td>22.0</td>\n",
       "      <td>1</td>\n",
       "      <td>1</td>\n",
       "      <td>12.2875</td>\n",
       "      <td>1</td>\n",
       "      <td>3</td>\n",
       "      <td>0</td>\n",
       "      <td>1</td>\n",
       "    </tr>\n",
       "    <tr>\n",
       "      <th>...</th>\n",
       "      <td>...</td>\n",
       "      <td>...</td>\n",
       "      <td>...</td>\n",
       "      <td>...</td>\n",
       "      <td>...</td>\n",
       "      <td>...</td>\n",
       "      <td>...</td>\n",
       "      <td>...</td>\n",
       "      <td>...</td>\n",
       "    </tr>\n",
       "    <tr>\n",
       "      <th>413</th>\n",
       "      <td>3</td>\n",
       "      <td>NaN</td>\n",
       "      <td>0</td>\n",
       "      <td>0</td>\n",
       "      <td>8.0500</td>\n",
       "      <td>0</td>\n",
       "      <td>3</td>\n",
       "      <td>0</td>\n",
       "      <td>0</td>\n",
       "    </tr>\n",
       "    <tr>\n",
       "      <th>414</th>\n",
       "      <td>1</td>\n",
       "      <td>39.0</td>\n",
       "      <td>0</td>\n",
       "      <td>0</td>\n",
       "      <td>108.9000</td>\n",
       "      <td>1</td>\n",
       "      <td>0</td>\n",
       "      <td>0</td>\n",
       "      <td>0</td>\n",
       "    </tr>\n",
       "    <tr>\n",
       "      <th>415</th>\n",
       "      <td>3</td>\n",
       "      <td>38.5</td>\n",
       "      <td>0</td>\n",
       "      <td>0</td>\n",
       "      <td>7.2500</td>\n",
       "      <td>0</td>\n",
       "      <td>3</td>\n",
       "      <td>0</td>\n",
       "      <td>0</td>\n",
       "    </tr>\n",
       "    <tr>\n",
       "      <th>416</th>\n",
       "      <td>3</td>\n",
       "      <td>NaN</td>\n",
       "      <td>0</td>\n",
       "      <td>0</td>\n",
       "      <td>8.0500</td>\n",
       "      <td>0</td>\n",
       "      <td>3</td>\n",
       "      <td>0</td>\n",
       "      <td>0</td>\n",
       "    </tr>\n",
       "    <tr>\n",
       "      <th>417</th>\n",
       "      <td>3</td>\n",
       "      <td>NaN</td>\n",
       "      <td>1</td>\n",
       "      <td>1</td>\n",
       "      <td>22.3583</td>\n",
       "      <td>0</td>\n",
       "      <td>1</td>\n",
       "      <td>1</td>\n",
       "      <td>0</td>\n",
       "    </tr>\n",
       "  </tbody>\n",
       "</table>\n",
       "<p>418 rows × 9 columns</p>\n",
       "</div>"
      ],
      "text/plain": [
       "     Pclass   Age  SibSp  Parch      Fare  Female  Ports3rdClass  MrMaster  \\\n",
       "0         3  34.5      0      0    7.8292       0              2         0   \n",
       "1         3  47.0      1      0    7.0000       1              3         0   \n",
       "2         2  62.0      0      0    9.6875       0              0         0   \n",
       "3         3  27.0      0      0    8.6625       0              3         0   \n",
       "4         3  22.0      1      1   12.2875       1              3         0   \n",
       "..      ...   ...    ...    ...       ...     ...            ...       ...   \n",
       "413       3   NaN      0      0    8.0500       0              3         0   \n",
       "414       1  39.0      0      0  108.9000       1              0         0   \n",
       "415       3  38.5      0      0    7.2500       0              3         0   \n",
       "416       3   NaN      0      0    8.0500       0              3         0   \n",
       "417       3   NaN      1      1   22.3583       0              1         1   \n",
       "\n",
       "     MrsMiss  \n",
       "0          0  \n",
       "1          1  \n",
       "2          0  \n",
       "3          0  \n",
       "4          1  \n",
       "..       ...  \n",
       "413        0  \n",
       "414        0  \n",
       "415        0  \n",
       "416        0  \n",
       "417        0  \n",
       "\n",
       "[418 rows x 9 columns]"
      ]
     },
     "execution_count": 30,
     "metadata": {},
     "output_type": "execute_result"
    }
   ],
   "source": [
    "test"
   ]
  },
  {
   "cell_type": "markdown",
   "id": "9423a91c",
   "metadata": {},
   "source": [
    "Lets look for a conection between the passenger's age and the probability they survived."
   ]
  },
  {
   "cell_type": "code",
   "execution_count": 31,
   "id": "db7519c9",
   "metadata": {},
   "outputs": [
    {
     "data": {
      "text/plain": [
       "<AxesSubplot:xlabel='Survived', ylabel='Age'>"
      ]
     },
     "execution_count": 31,
     "metadata": {},
     "output_type": "execute_result"
    },
    {
     "data": {
      "image/png": "[encoded data removed]",
      "text/plain": [
       "<Figure size 432x288 with 1 Axes>"
      ]
     },
     "metadata": {
      "needs_background": "light"
     },
     "output_type": "display_data"
    }
   ],
   "source": [
    "sns.boxplot(data = train, x = 'Survived', y = 'Age')"
   ]
  },
  {
   "cell_type": "markdown",
   "id": "0807ee76",
   "metadata": {},
   "source": [
    "At first glance, there seems to be only a weak connection between the variables, but lets take a closer look by dividing our data to different age groups. \n",
    "We create a new column that classifies the passenger to a certain age group. We than look at the survival rate for each group seperately."
   ]
  },
  {
   "cell_type": "code",
   "execution_count": 32,
   "id": "1624775d",
   "metadata": {},
   "outputs": [],
   "source": [
    "train_with_age = train.loc[~train['Age'].isna(), :]\n",
    "\n",
    "def Age_Group(x):\n",
    "    if x < 14:\n",
    "        return 'Kid'\n",
    "    elif x >= 14 and x < 30:\n",
    "        return 'Young Adult'\n",
    "    elif x >= 30 and x < 50:\n",
    "        return 'Adult'\n",
    "    else: \n",
    "        return 'Elderly'\n",
    "    \n",
    "train.loc[~train['Age'].isna(), 'AgeGroup'] = train_with_age['Age'].apply(Age_Group)"
   ]
  },
  {
   "cell_type": "code",
   "execution_count": 33,
   "id": "22be8b8e",
   "metadata": {},
   "outputs": [
    {
     "data": {
      "text/plain": [
       "<AxesSubplot:xlabel='AgeGroup', ylabel='count'>"
      ]
     },
     "execution_count": 33,
     "metadata": {},
     "output_type": "execute_result"
    },
    {
     "data": {
      "image/png": "[encoded data removed]",
      "text/plain": [
       "<Figure size 432x288 with 1 Axes>"
      ]
     },
     "metadata": {
      "needs_background": "light"
     },
     "output_type": "display_data"
    }
   ],
   "source": [
    "sns.countplot(data = train.loc[~train['Age'].isna(), :], x = 'AgeGroup', hue = 'Survived')"
   ]
  },
  {
   "cell_type": "markdown",
   "id": "09fb818b",
   "metadata": {},
   "source": [
    "We can see that indeed the age group a passenger belongs to is relevant to their survival probability. \"Kids\" in the training set survived with a rate higher than 0.5, but only about 1/3 of the \"young adults\" survived.\n",
    "We will create a new column that will treat the age group as an ordinal variable, higher values will correspond to age groups with a higher survival rate. But, in order to do that, we first need to impute the missing values in this column. We will do so using the iterative imputer in scikit-learn. It uses bayesian ridge regression using the other columns for the imputation.\n"
   ]
  },
  {
   "cell_type": "code",
   "execution_count": 34,
   "id": "38b37b46",
   "metadata": {},
   "outputs": [],
   "source": [
    "from sklearn.experimental import enable_iterative_imputer\n",
    "from sklearn.impute import IterativeImputer\n",
    "\n",
    "imputer = IterativeImputer(max_iter=1000, max_value=80, min_value=1)\n",
    "X_train = pd.DataFrame(imputer.fit_transform(X_train), columns = X_train.columns)\n",
    "test = pd.DataFrame(imputer.transform(test), columns = test.columns)"
   ]
  },
  {
   "cell_type": "code",
   "execution_count": 35,
   "id": "654ed474",
   "metadata": {},
   "outputs": [],
   "source": [
    "def Age_Group_2(x):\n",
    "    if x < 14:\n",
    "        return 3\n",
    "    elif x >= 14 and x < 30:\n",
    "        return 1\n",
    "    elif x >= 30 and x < 50:\n",
    "        return 2\n",
    "    else: \n",
    "        return 0\n",
    "\n",
    "train['AgeGroup'] = train['Age'].apply(Age_Group)\n",
    "X_train['AgeGroup'] = X_train['Age'].apply(Age_Group_2)\n",
    "test['AgeGroup'] = test['Age'].apply(Age_Group_2)\n",
    "X_train = X_train.drop('Age', axis = 1)\n",
    "test = test.drop('Age', axis = 1)"
   ]
  },
  {
   "cell_type": "markdown",
   "id": "fb30dd71",
   "metadata": {},
   "source": [
    "The \"SibSp\" feature tells us how many siblings and spouses a passenger had. We try and visualize its connection the target variable in two ways."
   ]
  },
  {
   "cell_type": "code",
   "execution_count": 36,
   "id": "713ca8d0",
   "metadata": {},
   "outputs": [
    {
     "data": {
      "text/plain": [
       "<AxesSubplot:xlabel='Survived', ylabel='SibSp'>"
      ]
     },
     "execution_count": 36,
     "metadata": {},
     "output_type": "execute_result"
    },
    {
     "data": {
      "image/png": "[encoded data removed]",
      "text/plain": [
       "<Figure size 432x288 with 1 Axes>"
      ]
     },
     "metadata": {
      "needs_background": "light"
     },
     "output_type": "display_data"
    }
   ],
   "source": [
    "sns.boxplot(data = train, x = 'Survived', y = 'SibSp')"
   ]
  },
  {
   "cell_type": "markdown",
   "id": "c21e3084",
   "metadata": {},
   "source": [
    "This does not tell us much, but what if we look at the appropriate countplot:"
   ]
  },
  {
   "cell_type": "code",
   "execution_count": 37,
   "id": "46e0c154",
   "metadata": {},
   "outputs": [
    {
     "data": {
      "text/plain": [
       "<AxesSubplot:xlabel='SibSp', ylabel='count'>"
      ]
     },
     "execution_count": 37,
     "metadata": {},
     "output_type": "execute_result"
    },
    {
     "data": {
      "image/png": "[encoded data removed]",
      "text/plain": [
       "<Figure size 432x288 with 1 Axes>"
      ]
     },
     "metadata": {
      "needs_background": "light"
     },
     "output_type": "display_data"
    }
   ],
   "source": [
    "sns.countplot(data = train, hue = 'Survived', x = 'SibSp')"
   ]
  },
  {
   "cell_type": "markdown",
   "id": "c11a2ad4",
   "metadata": {},
   "source": [
    "First thing we can notice is that almost all of our observations have at most 1 siblings and spouses on the ship.\n",
    "Second, the survival rate of passengers with 1 or 2 siblings and spouses is around 0.5, which is nuch higher than in other groups. \n",
    "Lets look at the class distribution for people with different 'SibSp' variable. "
   ]
  },
  {
   "cell_type": "code",
   "execution_count": 38,
   "id": "71d70463",
   "metadata": {},
   "outputs": [
    {
     "data": {
      "text/plain": [
       "<AxesSubplot:xlabel='Pclass', ylabel='count'>"
      ]
     },
     "execution_count": 38,
     "metadata": {},
     "output_type": "execute_result"
    },
    {
     "data": {
      "image/png": "[encoded data removed]",
      "text/plain": [
       "<Figure size 432x288 with 1 Axes>"
      ]
     },
     "metadata": {
      "needs_background": "light"
     },
     "output_type": "display_data"
    }
   ],
   "source": [
    "sns.countplot(data = train[(train['SibSp'] > 1)], x = 'Pclass', hue = 'Survived')"
   ]
  },
  {
   "cell_type": "code",
   "execution_count": 39,
   "id": "ebcfb982",
   "metadata": {},
   "outputs": [
    {
     "data": {
      "text/plain": [
       "<AxesSubplot:xlabel='Pclass', ylabel='count'>"
      ]
     },
     "execution_count": 39,
     "metadata": {},
     "output_type": "execute_result"
    },
    {
     "data": {
      "image/png": "[encoded data removed]",
      "text/plain": [
       "<Figure size 432x288 with 1 Axes>"
      ]
     },
     "metadata": {
      "needs_background": "light"
     },
     "output_type": "display_data"
    }
   ],
   "source": [
    "sns.countplot(data = train[(train['SibSp'] == 0)], x = 'Pclass', hue = 'Survived')"
   ]
  },
  {
   "cell_type": "code",
   "execution_count": 40,
   "id": "36eb5d8a",
   "metadata": {},
   "outputs": [
    {
     "data": {
      "text/plain": [
       "<AxesSubplot:xlabel='Pclass', ylabel='count'>"
      ]
     },
     "execution_count": 40,
     "metadata": {},
     "output_type": "execute_result"
    },
    {
     "data": {
      "image/png": "[encoded data removed]",
      "text/plain": [
       "<Figure size 432x288 with 1 Axes>"
      ]
     },
     "metadata": {
      "needs_background": "light"
     },
     "output_type": "display_data"
    }
   ],
   "source": [
    "sns.countplot(data = train[(train['SibSp'] == 1)], x = 'Pclass', hue = 'Survived')"
   ]
  },
  {
   "cell_type": "markdown",
   "id": "617352cd",
   "metadata": {},
   "source": [
    "Lets try and do the same analysis as we did for the 'Embarked' feature and check the dependence between 'SibSp' and 'Survived' inside each seperate class."
   ]
  },
  {
   "cell_type": "code",
   "execution_count": 41,
   "id": "1ce6af77",
   "metadata": {},
   "outputs": [],
   "source": [
    "def SibSp(x):\n",
    "    if x == 0:\n",
    "        return 0\n",
    "    elif x == 1: \n",
    "        return 1\n",
    "    else:\n",
    "        return 2\n",
    "\n",
    "\n",
    "train['SibSp'] = train['SibSp'].apply(SibSp)"
   ]
  },
  {
   "cell_type": "code",
   "execution_count": 42,
   "id": "c38e53e8",
   "metadata": {},
   "outputs": [
    {
     "name": "stdout",
     "output_type": "stream",
     "text": [
      "p-value of the test to check dependence in the 3rd class is: 0.06752442347539821\n"
     ]
    }
   ],
   "source": [
    "n_1_0_3 = len(train[(train['SibSp'] == 0) & (train['Pclass'] == 3) & (train['Survived'] == 1)].index)\n",
    "n_0_0_3 = len(train[(train['SibSp'] == 0) & (train['Pclass'] == 3) & (train['Survived'] == 0)].index)\n",
    "n_1_1_3 = len(train[(train['SibSp'] == 1) & (train['Pclass'] == 3) & (train['Survived'] == 1)].index)\n",
    "n_0_1_3 = len(train[(train['SibSp'] == 1) & (train['Pclass'] == 3) & (train['Survived'] == 0)].index)\n",
    "n_1_2_3 = len(train[(train['SibSp'] == 2) & (train['Pclass'] == 3) & (train['Survived'] == 1)].index)\n",
    "n_0_2_3 = len(train[(train['SibSp'] == 2) & (train['Pclass'] == 3) & (train['Survived'] == 0)].index)\n",
    "\n",
    "print('p-value of the test to check dependence in the 3rd class is: ' + \n",
    "      str(chi2_contingency(observed=np.array([[n_0_0_3, n_0_1_3, n_0_2_3], [n_1_0_3, n_1_1_3, n_1_2_3]]))[1]))"
   ]
  },
  {
   "cell_type": "code",
   "execution_count": 43,
   "id": "ec504d48",
   "metadata": {},
   "outputs": [
    {
     "name": "stdout",
     "output_type": "stream",
     "text": [
      "p-value of the test to check dependence in the 2nd class is: 0.11154522975614072\n"
     ]
    }
   ],
   "source": [
    "n_1_0_2 = len(train[(train['SibSp'] == 0) & (train['Pclass'] == 2) & (train['Survived'] == 1)].index)\n",
    "n_0_0_2 = len(train[(train['SibSp'] == 0) & (train['Pclass'] == 2) & (train['Survived'] == 0)].index)\n",
    "n_1_1_2 = len(train[(train['SibSp'] == 1) & (train['Pclass'] == 2) & (train['Survived'] == 1)].index)\n",
    "n_0_1_2 = len(train[(train['SibSp'] == 1) & (train['Pclass'] == 2) & (train['Survived'] == 0)].index)\n",
    "n_1_2_2 = len(train[(train['SibSp'] == 2) & (train['Pclass'] == 2) & (train['Survived'] == 1)].index)\n",
    "n_0_2_2 = len(train[(train['SibSp'] == 2) & (train['Pclass'] == 2) & (train['Survived'] == 0)].index)\n",
    "\n",
    "print('p-value of the test to check dependence in the 2nd class is: ' + \n",
    "      str(chi2_contingency(observed=np.array([[n_0_0_2, n_0_1_2, n_0_2_2], [n_1_0_2, n_1_1_2, n_1_2_2]]))[1]))"
   ]
  },
  {
   "cell_type": "code",
   "execution_count": 44,
   "id": "db6cfcec",
   "metadata": {},
   "outputs": [
    {
     "name": "stdout",
     "output_type": "stream",
     "text": [
      "p-value of the test to check dependence in the 1st class is: 0.025505814378072537\n"
     ]
    }
   ],
   "source": [
    "n_1_0_1 = len(train[(train['SibSp'] == 0) & (train['Pclass'] == 1) & (train['Survived'] == 1)].index)\n",
    "n_0_0_1 = len(train[(train['SibSp'] == 0) & (train['Pclass'] == 1) & (train['Survived'] == 0)].index)\n",
    "n_1_1_1 = len(train[(train['SibSp'] == 1) & (train['Pclass'] == 1) & (train['Survived'] == 1)].index)\n",
    "n_0_1_1 = len(train[(train['SibSp'] == 1) & (train['Pclass'] == 1) & (train['Survived'] == 0)].index)\n",
    "n_1_2_1 = len(train[(train['SibSp'] == 2) & (train['Pclass'] == 1) & (train['Survived'] == 1)].index)\n",
    "n_0_2_1 = len(train[(train['SibSp'] == 2) & (train['Pclass'] == 1) & (train['Survived'] == 0)].index)\n",
    "\n",
    "print('p-value of the test to check dependence in the 1st class is: ' + \n",
    "      str(chi2_contingency(observed=np.array([[n_0_0_1, n_0_1_1, n_0_2_1], [n_1_0_1, n_1_1_1, n_1_2_1]]))[1]))"
   ]
  },
  {
   "cell_type": "markdown",
   "id": "085fb3be",
   "metadata": {},
   "source": [
    "If we use Holm's method for multiple tests with a FWER of 0.05, we can only reject the 3rd null hypothesis and deduce a dependence only for passengers in the 1st class. Therfore, we will create a new feature which will indicate if the passenger had 0,1 or more than 1 siblings and spouses on board, but only for passengers in the 1st class. \n",
    "Lets see what should its values be:"
   ]
  },
  {
   "cell_type": "code",
   "execution_count": 45,
   "id": "491e0d24",
   "metadata": {},
   "outputs": [
    {
     "name": "stdout",
     "output_type": "stream",
     "text": [
      "Survival rate for \"SibSp\" = 0 in the 1st class: 0.5620437956204379\n"
     ]
    }
   ],
   "source": [
    "print('Survival rate for \"SibSp\" = 0 in the 1st class: ' + str(n_1_0_1 / (n_1_0_1 + n_0_0_1)))"
   ]
  },
  {
   "cell_type": "code",
   "execution_count": 46,
   "id": "168446c8",
   "metadata": {},
   "outputs": [
    {
     "name": "stdout",
     "output_type": "stream",
     "text": [
      "Survival rate for \"SibSp\" = 1 in the 1st class: 0.7464788732394366\n"
     ]
    }
   ],
   "source": [
    "print('Survival rate for \"SibSp\" = 1 in the 1st class: ' + str(n_1_1_1 / (n_1_1_1 + n_0_1_1)))"
   ]
  },
  {
   "cell_type": "code",
   "execution_count": 47,
   "id": "88df2902",
   "metadata": {},
   "outputs": [
    {
     "name": "stdout",
     "output_type": "stream",
     "text": [
      "Survival rate for \"SibSp\" > 1 in the 1st class: 0.75\n"
     ]
    }
   ],
   "source": [
    "print('Survival rate for \"SibSp\" > 1 in the 1st class: ' + str(n_1_2_1 / (n_1_2_1 + n_0_2_1)))"
   ]
  },
  {
   "cell_type": "markdown",
   "id": "0e8ff634",
   "metadata": {},
   "source": [
    "We will therefore give a value of 1 if \"SibSp\" = 0, and 2 if it is larger than 0."
   ]
  },
  {
   "cell_type": "code",
   "execution_count": 48,
   "id": "d77e6046",
   "metadata": {},
   "outputs": [],
   "source": [
    "def first_class_sibsp(x,y):\n",
    "    if x == 1:\n",
    "        if y == 0:\n",
    "            return 1\n",
    "        else:\n",
    "            return 2\n",
    "    else:\n",
    "        return 0\n",
    "    \n",
    "X_train['SibSp1stClass'] = X_train.apply(lambda x : first_class_sibsp(x['Pclass'], x['SibSp']), axis = 1)\n",
    "test['SibSp1stClass'] = test.apply(lambda x : first_class_sibsp(x['Pclass'], x['SibSp']), axis = 1)\n",
    "\n",
    "X_train.drop('SibSp', axis = 1, inplace = True)\n",
    "test.drop('SibSp', axis = 1, inplace = True)"
   ]
  },
  {
   "cell_type": "markdown",
   "id": "b76750ba",
   "metadata": {},
   "source": [
    "We can try to preform a similar analysis to the 'Parch' feature, which tells us how many parents and children a passenger had with hom on the ship."
   ]
  },
  {
   "cell_type": "code",
   "execution_count": 49,
   "id": "a7e219cd",
   "metadata": {},
   "outputs": [
    {
     "data": {
      "text/plain": [
       "<AxesSubplot:xlabel='Parch', ylabel='count'>"
      ]
     },
     "execution_count": 49,
     "metadata": {},
     "output_type": "execute_result"
    },
    {
     "data": {
      "image/png": "[encoded data removed]",
      "text/plain": [
       "<Figure size 432x288 with 1 Axes>"
      ]
     },
     "metadata": {
      "needs_background": "light"
     },
     "output_type": "display_data"
    }
   ],
   "source": [
    "sns.countplot(data = train, hue = 'Survived', x = 'Parch')"
   ]
  },
  {
   "cell_type": "markdown",
   "id": "247eda48",
   "metadata": {},
   "source": [
    "We can see that people with no parents and children on board survived at a much lower rate than those with one or more.\n",
    "Lets have a look at the age group of people with 0 on the 'Parch' column."
   ]
  },
  {
   "cell_type": "code",
   "execution_count": 50,
   "id": "e11ea04c",
   "metadata": {},
   "outputs": [
    {
     "data": {
      "text/plain": [
       "<AxesSubplot:xlabel='Pclass', ylabel='count'>"
      ]
     },
     "execution_count": 50,
     "metadata": {},
     "output_type": "execute_result"
    },
    {
     "data": {
      "image/png": "[encoded data removed]",
      "text/plain": [
       "<Figure size 432x288 with 1 Axes>"
      ]
     },
     "metadata": {
      "needs_background": "light"
     },
     "output_type": "display_data"
    }
   ],
   "source": [
    "sns.countplot(data = train[(train['Parch'] == 0)], x = 'Pclass', hue = 'Survived')"
   ]
  },
  {
   "cell_type": "code",
   "execution_count": 51,
   "id": "001cf826",
   "metadata": {},
   "outputs": [
    {
     "data": {
      "text/plain": [
       "<AxesSubplot:xlabel='Pclass', ylabel='count'>"
      ]
     },
     "execution_count": 51,
     "metadata": {},
     "output_type": "execute_result"
    },
    {
     "data": {
      "image/png": "[encoded data removed]",
      "text/plain": [
       "<Figure size 432x288 with 1 Axes>"
      ]
     },
     "metadata": {
      "needs_background": "light"
     },
     "output_type": "display_data"
    }
   ],
   "source": [
    "sns.countplot(data = train[(train['Parch'] == 1)], x = 'Pclass', hue = 'Survived')"
   ]
  },
  {
   "cell_type": "code",
   "execution_count": 52,
   "id": "20aa3591",
   "metadata": {},
   "outputs": [
    {
     "data": {
      "text/plain": [
       "<AxesSubplot:xlabel='Pclass', ylabel='count'>"
      ]
     },
     "execution_count": 52,
     "metadata": {},
     "output_type": "execute_result"
    },
    {
     "data": {
      "image/png": "[encoded data removed]",
      "text/plain": [
       "<Figure size 432x288 with 1 Axes>"
      ]
     },
     "metadata": {
      "needs_background": "light"
     },
     "output_type": "display_data"
    }
   ],
   "source": [
    "sns.countplot(data = train[(train['Parch'] > 1)], x = 'Pclass', hue = 'Survived')"
   ]
  },
  {
   "cell_type": "code",
   "execution_count": 53,
   "id": "17a7cf35",
   "metadata": {},
   "outputs": [],
   "source": [
    "def Parch(x):\n",
    "    if x == 0:\n",
    "        return 0\n",
    "    elif x == 1: \n",
    "        return 1\n",
    "    else:\n",
    "        return 2\n",
    "\n",
    "\n",
    "train['Parch'] = train['Parch'].apply(Parch)"
   ]
  },
  {
   "cell_type": "code",
   "execution_count": 54,
   "id": "54371183",
   "metadata": {},
   "outputs": [
    {
     "name": "stdout",
     "output_type": "stream",
     "text": [
      "p-value of the test to check dependence in the 3rd class is: 0.08247195235459456\n"
     ]
    }
   ],
   "source": [
    "n_1_0_3 = len(train[(train['Parch'] == 0) & (train['Pclass'] == 3) & (train['Survived'] == 1)].index)\n",
    "n_0_0_3 = len(train[(train['Parch'] == 0) & (train['Pclass'] == 3) & (train['Survived'] == 0)].index)\n",
    "n_1_1_3 = len(train[(train['Parch'] == 1) & (train['Pclass'] == 3) & (train['Survived'] == 1)].index)\n",
    "n_0_1_3 = len(train[(train['Parch'] == 1) & (train['Pclass'] == 3) & (train['Survived'] == 0)].index)\n",
    "n_1_2_3 = len(train[(train['Parch'] == 2) & (train['Pclass'] == 3) & (train['Survived'] == 1)].index)\n",
    "n_0_2_3 = len(train[(train['Parch'] == 2) & (train['Pclass'] == 3) & (train['Survived'] == 0)].index)\n",
    "\n",
    "\n",
    "print('p-value of the test to check dependence in the 3rd class is: ' + \n",
    "      str(chi2_contingency(observed=np.array([[n_0_0_3, n_0_1_3, n_0_2_3], [n_1_0_3, n_1_1_3, n_1_2_3]]))[1]))"
   ]
  },
  {
   "cell_type": "code",
   "execution_count": 55,
   "id": "36d669c3",
   "metadata": {},
   "outputs": [
    {
     "name": "stdout",
     "output_type": "stream",
     "text": [
      "p-value of the test to check dependence in the 2nd class is: 1.935438126129281e-06\n"
     ]
    }
   ],
   "source": [
    "n_1_0_2 = len(train[(train['Parch'] == 0) & (train['Pclass'] == 2) & (train['Survived'] == 1)].index)\n",
    "n_0_0_2 = len(train[(train['Parch'] == 0) & (train['Pclass'] == 2) & (train['Survived'] == 0)].index)\n",
    "n_1_1_2 = len(train[(train['Parch'] == 1) & (train['Pclass'] == 2) & (train['Survived'] == 1)].index)\n",
    "n_0_1_2 = len(train[(train['Parch'] == 1) & (train['Pclass'] == 2) & (train['Survived'] == 0)].index)\n",
    "n_1_2_2 = len(train[(train['Parch'] == 2) & (train['Pclass'] == 2) & (train['Survived'] == 1)].index)\n",
    "n_0_2_2 = len(train[(train['Parch'] == 2) & (train['Pclass'] == 2) & (train['Survived'] == 0)].index)\n",
    "\n",
    "print('p-value of the test to check dependence in the 2nd class is: ' + \n",
    "      str(chi2_contingency(observed=np.array([[n_0_0_2, n_0_1_2, n_0_2_2], [n_1_0_2, n_1_1_2, n_1_2_2]]))[1]))"
   ]
  },
  {
   "cell_type": "code",
   "execution_count": 56,
   "id": "32e9e5a7",
   "metadata": {},
   "outputs": [
    {
     "name": "stdout",
     "output_type": "stream",
     "text": [
      "p-value of the test to check dependence in the 1st class is: 0.4607820537216153\n"
     ]
    }
   ],
   "source": [
    "n_1_0_1 = len(train[(train['Parch'] == 0) & (train['Pclass'] == 1) & (train['Survived'] == 1)].index)\n",
    "n_0_0_1 = len(train[(train['Parch'] == 0) & (train['Pclass'] == 1) & (train['Survived'] == 0)].index)\n",
    "n_1_1_1 = len(train[(train['Parch'] == 1) & (train['Pclass'] == 1) & (train['Survived'] == 1)].index)\n",
    "n_0_1_1 = len(train[(train['Parch'] == 1) & (train['Pclass'] == 1) & (train['Survived'] == 0)].index)\n",
    "n_1_2_1 = len(train[(train['Parch'] == 2) & (train['Pclass'] == 1) & (train['Survived'] == 1)].index)\n",
    "n_0_2_1 = len(train[(train['Parch'] == 2) & (train['Pclass'] == 1) & (train['Survived'] == 0)].index)\n",
    "\n",
    "print('p-value of the test to check dependence in the 1st class is: ' + \n",
    "      str(chi2_contingency(observed=np.array([[n_0_0_1, n_0_1_1, n_0_2_1], [n_1_0_1, n_1_1_1, n_1_2_1]]))[1]))"
   ]
  },
  {
   "cell_type": "markdown",
   "id": "e176560d",
   "metadata": {},
   "source": [
    "We can only infer dependence inside the 2nd class. We will create a similar column to the one we created to replace 'SibSp'."
   ]
  },
  {
   "cell_type": "code",
   "execution_count": 57,
   "id": "148506dd",
   "metadata": {},
   "outputs": [],
   "source": [
    "def second_class_parch(x,y):\n",
    "    if x == 2:\n",
    "        if y == 0:\n",
    "            return 1\n",
    "        elif y == 1:\n",
    "            return 2\n",
    "        else:\n",
    "            return 3\n",
    "    else:\n",
    "        return 0\n",
    "    \n",
    "X_train['Parch2ndClass'] = X_train.apply(lambda x : second_class_parch(x['Pclass'], x['Parch']), axis = 1)\n",
    "test['Parch2ndClass'] = test.apply(lambda x : second_class_parch(x['Pclass'], x['Parch']), axis = 1)\n",
    "\n",
    "X_train.drop('Parch', axis = 1, inplace = True)\n",
    "test.drop('Parch', axis = 1, inplace = True)"
   ]
  },
  {
   "cell_type": "markdown",
   "id": "cb44b699",
   "metadata": {},
   "source": [
    "We want to explore how the 'Fare' and survival rate are connected."
   ]
  },
  {
   "cell_type": "code",
   "execution_count": 58,
   "id": "be073825",
   "metadata": {},
   "outputs": [
    {
     "data": {
      "text/plain": [
       "<AxesSubplot:xlabel='Survived', ylabel='Fare'>"
      ]
     },
     "execution_count": 58,
     "metadata": {},
     "output_type": "execute_result"
    },
    {
     "data": {
      "image/png": "[encoded data removed]",
      "text/plain": [
       "<Figure size 432x288 with 1 Axes>"
      ]
     },
     "metadata": {
      "needs_background": "light"
     },
     "output_type": "display_data"
    }
   ],
   "source": [
    "sns.boxplot(data = train, y = 'Fare', x = 'Survived')"
   ]
  },
  {
   "cell_type": "markdown",
   "id": "164aacde",
   "metadata": {},
   "source": [
    "Not surprisingly, the 'Fare' passengers paid in the survivors group tends to be higher. But, as we saw before, we might be able to explain that better using the passenger's class.\n",
    "We'll explore it further."
   ]
  },
  {
   "cell_type": "code",
   "execution_count": 59,
   "id": "fbd179a2",
   "metadata": {},
   "outputs": [
    {
     "data": {
      "text/plain": [
       "<AxesSubplot:xlabel='Pclass', ylabel='Fare'>"
      ]
     },
     "execution_count": 59,
     "metadata": {},
     "output_type": "execute_result"
    },
    {
     "data": {
      "image/png": "[encoded data removed]",
      "text/plain": [
       "<Figure size 432x288 with 1 Axes>"
      ]
     },
     "metadata": {
      "needs_background": "light"
     },
     "output_type": "display_data"
    }
   ],
   "source": [
    "sns.boxplot(data = train, y = 'Fare', x = 'Pclass', hue = 'Survived')"
   ]
  },
  {
   "cell_type": "markdown",
   "id": "4ba401ad",
   "metadata": {},
   "source": [
    "We can see that in the 2nd and 3rd classes, paying more does not seem to buy you a higher survival rate. On the other hand, in the 1st class it does. We will create a new column that will be equivalent to 4 classes. The highest class will be for people who payed more than t in the 1st class.\n",
    "We try to find the best t value, using a Chi-Square test."
   ]
  },
  {
   "cell_type": "code",
   "execution_count": 60,
   "id": "7373f180",
   "metadata": {},
   "outputs": [],
   "source": [
    "def p_value(t):\n",
    "    n_1_o_1 = len(train[(train['Fare'] > t) & (train['Pclass'] == 1) & (train['Survived'] == 1)].index)\n",
    "    n_1_o_0 = len(train[(train['Fare'] > t) & (train['Pclass'] == 1) & (train['Survived'] == 0)].index)\n",
    "    n_1_u_1 = len(train[(train['Fare'] <= t) & (train['Pclass'] == 1) & (train['Survived'] == 1)].index)\n",
    "    n_1_u_0 = len(train[(train['Fare'] <= t) & (train['Pclass'] == 1) & (train['Survived'] == 0)].index)\n",
    "    return chi2_contingency(observed=np.array([[n_1_o_0, n_1_o_1], [n_1_u_0, n_1_u_1]]))[1]\n",
    "\n",
    "p_values = []\n",
    "m = min(train.loc[train.Pclass == 1, :]['Fare'])\n",
    "M = max(train.loc[train.Pclass == 1, :]['Fare'])\n",
    "\n",
    "for t in range(int(m)+1, int(M)):\n",
    "    p_values.append(p_value(t))"
   ]
  },
  {
   "cell_type": "code",
   "execution_count": 61,
   "id": "f17bc21e",
   "metadata": {},
   "outputs": [
    {
     "data": {
      "text/plain": [
       "51"
      ]
     },
     "execution_count": 61,
     "metadata": {},
     "output_type": "execute_result"
    }
   ],
   "source": [
    "np.argmin(p_values)"
   ]
  },
  {
   "cell_type": "code",
   "execution_count": 62,
   "id": "5764df01",
   "metadata": {},
   "outputs": [],
   "source": [
    "def Class(x, y):\n",
    "    t = int(m) + 1 + 51\n",
    "    if x == 1:\n",
    "        if y > t:\n",
    "            return 0\n",
    "        else:\n",
    "            return 1\n",
    "    else:\n",
    "        return x\n",
    "    \n",
    "X_train['Class'] = X_train.apply(lambda x : Class(x['Pclass'], x['Fare']), axis = 1)\n",
    "test['Class'] = test.apply(lambda x : Class(x['Pclass'], x['Fare']), axis = 1)\n",
    "\n",
    "X_train.drop(['Fare', 'Pclass'], axis = 1, inplace = True)\n",
    "test.drop(['Fare', 'Pclass'], axis = 1, inplace = True)"
   ]
  },
  {
   "cell_type": "markdown",
   "id": "f16e4a3d",
   "metadata": {},
   "source": [
    "We have now filled all the missing data, and finishing our data analysis.\n",
    "Last thing we are going to do before moving to our model selection part, we will scale the data. It is important because we will use regularization in our models."
   ]
  },
  {
   "cell_type": "code",
   "execution_count": 63,
   "id": "42aaeee7",
   "metadata": {},
   "outputs": [],
   "source": [
    "from sklearn.preprocessing import StandardScaler\n",
    "\n",
    "scaler = StandardScaler(with_mean=False)\n",
    "X_train = pd.DataFrame(scaler.fit_transform(X_train), columns = X_train.columns)\n",
    "test = pd.DataFrame(scaler.transform(test), columns = test.columns)"
   ]
  },
  {
   "cell_type": "markdown",
   "id": "5ecb8f4f",
   "metadata": {},
   "source": [
    "Lets have a look at the proccessed data"
   ]
  },
  {
   "cell_type": "code",
   "execution_count": 64,
   "id": "d6c20ea5",
   "metadata": {},
   "outputs": [
    {
     "data": {
      "text/html": [
       "<div>\n",
       "<style scoped>\n",
       "    .dataframe tbody tr th:only-of-type {\n",
       "        vertical-align: middle;\n",
       "    }\n",
       "\n",
       "    .dataframe tbody tr th {\n",
       "        vertical-align: top;\n",
       "    }\n",
       "\n",
       "    .dataframe thead th {\n",
       "        text-align: right;\n",
       "    }\n",
       "</style>\n",
       "<table border=\"1\" class=\"dataframe\">\n",
       "  <thead>\n",
       "    <tr style=\"text-align: right;\">\n",
       "      <th></th>\n",
       "      <th>Female</th>\n",
       "      <th>Ports3rdClass</th>\n",
       "      <th>MrMaster</th>\n",
       "      <th>MrsMiss</th>\n",
       "      <th>AgeGroup</th>\n",
       "      <th>SibSp1stClass</th>\n",
       "      <th>Parch2ndClass</th>\n",
       "      <th>Class</th>\n",
       "    </tr>\n",
       "  </thead>\n",
       "  <tbody>\n",
       "    <tr>\n",
       "      <th>0</th>\n",
       "      <td>0.000000</td>\n",
       "      <td>2.156936</td>\n",
       "      <td>0.0</td>\n",
       "      <td>0.000000</td>\n",
       "      <td>1.283840</td>\n",
       "      <td>0.00000</td>\n",
       "      <td>0.000000</td>\n",
       "      <td>2.741759</td>\n",
       "    </tr>\n",
       "    <tr>\n",
       "      <th>1</th>\n",
       "      <td>2.093269</td>\n",
       "      <td>0.000000</td>\n",
       "      <td>0.0</td>\n",
       "      <td>2.919037</td>\n",
       "      <td>2.567681</td>\n",
       "      <td>3.16704</td>\n",
       "      <td>0.000000</td>\n",
       "      <td>0.000000</td>\n",
       "    </tr>\n",
       "    <tr>\n",
       "      <th>2</th>\n",
       "      <td>2.093269</td>\n",
       "      <td>2.156936</td>\n",
       "      <td>0.0</td>\n",
       "      <td>0.000000</td>\n",
       "      <td>1.283840</td>\n",
       "      <td>0.00000</td>\n",
       "      <td>0.000000</td>\n",
       "      <td>2.741759</td>\n",
       "    </tr>\n",
       "    <tr>\n",
       "      <th>3</th>\n",
       "      <td>2.093269</td>\n",
       "      <td>0.000000</td>\n",
       "      <td>0.0</td>\n",
       "      <td>2.919037</td>\n",
       "      <td>2.567681</td>\n",
       "      <td>3.16704</td>\n",
       "      <td>0.000000</td>\n",
       "      <td>0.000000</td>\n",
       "    </tr>\n",
       "    <tr>\n",
       "      <th>4</th>\n",
       "      <td>0.000000</td>\n",
       "      <td>2.156936</td>\n",
       "      <td>0.0</td>\n",
       "      <td>0.000000</td>\n",
       "      <td>2.567681</td>\n",
       "      <td>0.00000</td>\n",
       "      <td>0.000000</td>\n",
       "      <td>2.741759</td>\n",
       "    </tr>\n",
       "    <tr>\n",
       "      <th>...</th>\n",
       "      <td>...</td>\n",
       "      <td>...</td>\n",
       "      <td>...</td>\n",
       "      <td>...</td>\n",
       "      <td>...</td>\n",
       "      <td>...</td>\n",
       "      <td>...</td>\n",
       "      <td>...</td>\n",
       "    </tr>\n",
       "    <tr>\n",
       "      <th>886</th>\n",
       "      <td>0.000000</td>\n",
       "      <td>0.000000</td>\n",
       "      <td>0.0</td>\n",
       "      <td>0.000000</td>\n",
       "      <td>1.283840</td>\n",
       "      <td>0.00000</td>\n",
       "      <td>1.589349</td>\n",
       "      <td>1.827839</td>\n",
       "    </tr>\n",
       "    <tr>\n",
       "      <th>887</th>\n",
       "      <td>2.093269</td>\n",
       "      <td>0.000000</td>\n",
       "      <td>0.0</td>\n",
       "      <td>0.000000</td>\n",
       "      <td>1.283840</td>\n",
       "      <td>1.58352</td>\n",
       "      <td>0.000000</td>\n",
       "      <td>0.913920</td>\n",
       "    </tr>\n",
       "    <tr>\n",
       "      <th>888</th>\n",
       "      <td>2.093269</td>\n",
       "      <td>2.156936</td>\n",
       "      <td>0.0</td>\n",
       "      <td>0.000000</td>\n",
       "      <td>1.283840</td>\n",
       "      <td>0.00000</td>\n",
       "      <td>0.000000</td>\n",
       "      <td>2.741759</td>\n",
       "    </tr>\n",
       "    <tr>\n",
       "      <th>889</th>\n",
       "      <td>0.000000</td>\n",
       "      <td>0.000000</td>\n",
       "      <td>0.0</td>\n",
       "      <td>0.000000</td>\n",
       "      <td>1.283840</td>\n",
       "      <td>1.58352</td>\n",
       "      <td>0.000000</td>\n",
       "      <td>0.913920</td>\n",
       "    </tr>\n",
       "    <tr>\n",
       "      <th>890</th>\n",
       "      <td>0.000000</td>\n",
       "      <td>1.437957</td>\n",
       "      <td>0.0</td>\n",
       "      <td>0.000000</td>\n",
       "      <td>2.567681</td>\n",
       "      <td>0.00000</td>\n",
       "      <td>0.000000</td>\n",
       "      <td>2.741759</td>\n",
       "    </tr>\n",
       "  </tbody>\n",
       "</table>\n",
       "<p>891 rows × 8 columns</p>\n",
       "</div>"
      ],
      "text/plain": [
       "       Female  Ports3rdClass  MrMaster   MrsMiss  AgeGroup  SibSp1stClass  \\\n",
       "0    0.000000       2.156936       0.0  0.000000  1.283840        0.00000   \n",
       "1    2.093269       0.000000       0.0  2.919037  2.567681        3.16704   \n",
       "2    2.093269       2.156936       0.0  0.000000  1.283840        0.00000   \n",
       "3    2.093269       0.000000       0.0  2.919037  2.567681        3.16704   \n",
       "4    0.000000       2.156936       0.0  0.000000  2.567681        0.00000   \n",
       "..        ...            ...       ...       ...       ...            ...   \n",
       "886  0.000000       0.000000       0.0  0.000000  1.283840        0.00000   \n",
       "887  2.093269       0.000000       0.0  0.000000  1.283840        1.58352   \n",
       "888  2.093269       2.156936       0.0  0.000000  1.283840        0.00000   \n",
       "889  0.000000       0.000000       0.0  0.000000  1.283840        1.58352   \n",
       "890  0.000000       1.437957       0.0  0.000000  2.567681        0.00000   \n",
       "\n",
       "     Parch2ndClass     Class  \n",
       "0         0.000000  2.741759  \n",
       "1         0.000000  0.000000  \n",
       "2         0.000000  2.741759  \n",
       "3         0.000000  0.000000  \n",
       "4         0.000000  2.741759  \n",
       "..             ...       ...  \n",
       "886       1.589349  1.827839  \n",
       "887       0.000000  0.913920  \n",
       "888       0.000000  2.741759  \n",
       "889       0.000000  0.913920  \n",
       "890       0.000000  2.741759  \n",
       "\n",
       "[891 rows x 8 columns]"
      ]
     },
     "execution_count": 64,
     "metadata": {},
     "output_type": "execute_result"
    }
   ],
   "source": [
    "X_train"
   ]
  },
  {
   "cell_type": "markdown",
   "id": "cbfc7d29",
   "metadata": {},
   "source": [
    "In order to choose our prediction algorithm, we will use a 10-Fold cross-validation. The parameters for each model will be chosen through an independent 5-Fold cross validation.\n",
    "\n",
    "Starting with simpleset model: K-Nearest neighbors."
   ]
  },
  {
   "cell_type": "code",
   "execution_count": 65,
   "id": "50ea208c",
   "metadata": {},
   "outputs": [
    {
     "name": "stdout",
     "output_type": "stream",
     "text": [
      "Optimal number of neighbors: 10\n",
      "Optimal p-metric: 1\n",
      "Optimal weights strategy: distance\n"
     ]
    }
   ],
   "source": [
    "from sklearn.neighbors import KNeighborsClassifier\n",
    "from sklearn.model_selection import GridSearchCV\n",
    "\n",
    "param_grid = {'n_neighbors':[1,5,7,10,12, 15, 20, 50], 'p' : [1,2], 'weights' : ['uniform', 'distance']}\n",
    "knn = KNeighborsClassifier()\n",
    "gridSearch = GridSearchCV(estimator=knn, param_grid=param_grid, cv = 5)\n",
    "gridSearch.fit(X_train, y_train)\n",
    "print('Optimal number of neighbors: ' + str(gridSearch.best_params_['n_neighbors']) + '\\n' +\n",
    "                                           'Optimal p-metric: ' + str(gridSearch.best_params_['p']) + '\\n' +\n",
    "                                           'Optimal weights strategy: ' + str(gridSearch.best_params_['weights']))"
   ]
  },
  {
   "cell_type": "code",
   "execution_count": 66,
   "id": "5f330f77",
   "metadata": {},
   "outputs": [
    {
     "name": "stdout",
     "output_type": "stream",
     "text": [
      "Mean cv score: 0.8316978776529338\n",
      " Std cv score: 0.0330175039028089\n"
     ]
    }
   ],
   "source": [
    "from sklearn.model_selection import cross_val_score\n",
    "\n",
    "knn = KNeighborsClassifier(n_neighbors = gridSearch.best_params_['n_neighbors'],\n",
    "                          p = gridSearch.best_params_['p'], weights = gridSearch.best_params_['weights'])\n",
    "cross_val_scores = cross_val_score(knn, X = X_train, y = y_train, scoring='accuracy', cv = 10)\n",
    "print('Mean cv score: ' + str(np.mean(cross_val_scores)) + \n",
    "      '\\n Std cv score: ' + str(np.std(cross_val_scores)))"
   ]
  },
  {
   "cell_type": "markdown",
   "id": "b52febf2",
   "metadata": {},
   "source": [
    "Now we will move to a parametric approach. Logistic regression with elastic-net penalty on the coefficients size."
   ]
  },
  {
   "cell_type": "code",
   "execution_count": 67,
   "id": "e4b3c4ca",
   "metadata": {},
   "outputs": [
    {
     "name": "stdout",
     "output_type": "stream",
     "text": [
      "Inverse regularization coefficient: 0.041\n",
      "Optimal L1 Ratio: 0.25\n"
     ]
    }
   ],
   "source": [
    "from sklearn.linear_model import LogisticRegression\n",
    "\n",
    "log_reg = LogisticRegression(penalty='elasticnet', solver = 'saga')\n",
    "paramGrid = {'C' : [0.001 * i for i in range(1,100)], 'l1_ratio' : [0, 0.25, 0.5, 0.75, 1]}\n",
    "gridSearch = GridSearchCV(estimator=log_reg, cv=5, param_grid = paramGrid, scoring = 'accuracy')\n",
    "gridSearch.fit(X_train, y_train)\n",
    "print('Inverse regularization coefficient: ' + str(gridSearch.best_params_['C']) + '\\n' + \n",
    "        'Optimal L1 Ratio: ' + str(gridSearch.best_params_['l1_ratio']))"
   ]
  },
  {
   "cell_type": "markdown",
   "id": "df68c593",
   "metadata": {},
   "source": [
    "computing the cross validation score on an independent folds division"
   ]
  },
  {
   "cell_type": "code",
   "execution_count": 68,
   "id": "fd5f599c",
   "metadata": {},
   "outputs": [
    {
     "name": "stdout",
     "output_type": "stream",
     "text": [
      "Mean cv score: 0.8170786516853932\n",
      " Std cv score: 0.037511265824476996\n"
     ]
    }
   ],
   "source": [
    "log_reg = LogisticRegression(C=gridSearch.best_params_['C'], l1_ratio = gridSearch.best_params_['l1_ratio'], \n",
    "                             penalty = 'elasticnet', solver = 'saga')\n",
    "cross_val_scores = cross_val_score(log_reg, X = X_train, y = y_train, scoring='accuracy', cv = 10)\n",
    "print('Mean cv score: ' + str(np.mean(cross_val_scores)) + \n",
    "      '\\n Std cv score: ' + str(np.std(cross_val_scores)))"
   ]
  },
  {
   "cell_type": "markdown",
   "id": "1962ec08",
   "metadata": {},
   "source": [
    "KNN gave us a better score than logistic regression, which might imply that the seperation of the 2 classes is not close to linear."
   ]
  },
  {
   "cell_type": "markdown",
   "id": "1bcb717e",
   "metadata": {},
   "source": [
    "\n",
    "Now trying SVM with a radial kernel. We will adjust both the C and gamma using 5-Fold CV. We will also give it a head start by telling it the proportion of people survived in the training set. It has a Bayesian interpertation as a prior distribution on Y."
   ]
  },
  {
   "cell_type": "code",
   "execution_count": 69,
   "id": "58b5000d",
   "metadata": {},
   "outputs": [
    {
     "name": "stdout",
     "output_type": "stream",
     "text": [
      "Optimal C: 15.5\n",
      "Optimal gamma: 0.07\n"
     ]
    }
   ],
   "source": [
    "from sklearn.svm import SVC\n",
    "\n",
    "prop0 = sum(y_train == 0)/len(y_train)\n",
    "prop1 = 1 - prop0\n",
    "param_grid = {'C' : [0.5 * i for i in range(1,50)], 'gamma' : [0.01 * i for i in range(1,10)]}\n",
    "svm = SVC(kernel = 'rbf', class_weight={0: prop0, 1:prop1})\n",
    "gridSearch = GridSearchCV(estimator=svm, param_grid=param_grid, scoring = 'accuracy', cv = 5)\n",
    "gridSearch.fit(X_train, y_train)\n",
    "print('Optimal C: ' + str(gridSearch.best_params_['C']) + '\\n' +\n",
    "                                           'Optimal gamma: ' + str(gridSearch.best_params_['gamma']))"
   ]
  },
  {
   "cell_type": "markdown",
   "id": "eafa69a2",
   "metadata": {},
   "source": [
    "Calculating the CV score"
   ]
  },
  {
   "cell_type": "code",
   "execution_count": 70,
   "id": "a421027e",
   "metadata": {},
   "outputs": [
    {
     "name": "stdout",
     "output_type": "stream",
     "text": [
      "Mean cv score: 0.8125967540574282\n",
      " Std cv score: 0.02541636613913802\n"
     ]
    }
   ],
   "source": [
    "svm = SVC(kernel='rbf', C = gridSearch.best_params_['C'], gamma = gridSearch.best_params_['gamma'], \n",
    "          class_weight={0: prop0, 1:prop1}, probability=True)\n",
    "cross_val_scores = cross_val_score(svm, X = X_train, y = y_train, scoring='accuracy', cv = 10)\n",
    "print('Mean cv score: ' + str(np.mean(cross_val_scores)) + \n",
    "      '\\n Std cv score: ' + str(np.std(cross_val_scores)))"
   ]
  },
  {
   "cell_type": "markdown",
   "id": "fe6cbf41",
   "metadata": {},
   "source": [
    "Moving to tree based methods, starting with AdaBoost. We will try different combinations of the number of trees, learning rate and the tree depth we are using for each tree in the ensemble."
   ]
  },
  {
   "cell_type": "code",
   "execution_count": 71,
   "id": "311659de",
   "metadata": {},
   "outputs": [
    {
     "name": "stdout",
     "output_type": "stream",
     "text": [
      "Optimal number of estimators: 1500\n",
      "Optimal learning rate: 0.002\n",
      "Optimal tree depth: DecisionTreeClassifier(criterion='entropy', max_depth=2)\n"
     ]
    }
   ],
   "source": [
    "from sklearn.ensemble import AdaBoostClassifier\n",
    "from sklearn.tree import DecisionTreeClassifier\n",
    "\n",
    "param_grid = {'n_estimators':[500, 1000, 1500], 'learning_rate':[0.001 * i for i in range(1,4)],\n",
    "             'base_estimator' : [DecisionTreeClassifier(criterion='entropy', max_depth=1),\n",
    "                                 DecisionTreeClassifier(criterion='entropy', max_depth=2),\n",
    "                                 DecisionTreeClassifier(criterion='entropy', max_depth=3)]}\n",
    "Ada = AdaBoostClassifier()\n",
    "gridSearch = GridSearchCV(estimator=Ada, param_grid=param_grid, cv= 5, scoring = 'accuracy')\n",
    "gridSearch.fit(X_train, y_train)\n",
    "print('Optimal number of estimators: ' + str(gridSearch.best_params_['n_estimators']) + '\\n' +\n",
    "                                           'Optimal learning rate: ' + str(gridSearch.best_params_['learning_rate']) + '\\n' +\n",
    "                                           'Optimal tree depth: ' + str(gridSearch.best_params_['base_estimator']))"
   ]
  },
  {
   "cell_type": "code",
   "execution_count": 72,
   "id": "564ef1dc",
   "metadata": {},
   "outputs": [
    {
     "name": "stdout",
     "output_type": "stream",
     "text": [
      "Mean cv score: 0.8271535580524345\n",
      " Std cv score: 0.0338122603137303\n"
     ]
    }
   ],
   "source": [
    "Ada = AdaBoostClassifier(n_estimators = gridSearch.best_params_['n_estimators'],\n",
    "                                     learning_rate = gridSearch.best_params_['learning_rate'],\n",
    "                                     base_estimator = gridSearch.best_params_['base_estimator'])\n",
    "cross_val_scores = cross_val_score(Ada, X = X_train, y = y_train, scoring='accuracy', cv = 10)\n",
    "print('Mean cv score: ' + str(np.mean(cross_val_scores)) + \n",
    "      '\\n Std cv score: ' + str(np.std(cross_val_scores)))"
   ]
  },
  {
   "cell_type": "markdown",
   "id": "bfdf6733",
   "metadata": {},
   "source": [
    "Now trying random forest. we will tune the number of trees, number of features we decide from in each split, and the alpha, which decides how much do we prune the trees in the forest. We use entropy as our split criterion because it is more accurate than the gini index. "
   ]
  },
  {
   "cell_type": "code",
   "execution_count": 73,
   "id": "c299e30f",
   "metadata": {},
   "outputs": [
    {
     "name": "stdout",
     "output_type": "stream",
     "text": [
      "Optimal number of trees: 1000\n",
      "Optimal number of features in each split: 2\n",
      "Optimal alpha: 0.0\n"
     ]
    }
   ],
   "source": [
    "from sklearn.ensemble import RandomForestClassifier\n",
    "\n",
    "param_grid = {'n_estimators':[300,500,1000], 'max_features':[2,3], 'ccp_alpha' : [0.005 * i for i in range(6)]}\n",
    "randomForest = RandomForestClassifier(criterion = 'entropy')\n",
    "gridSearch = GridSearchCV(estimator=randomForest, param_grid=param_grid, cv = 5, scoring = 'accuracy')\n",
    "gridSearch.fit(X_train, y_train)\n",
    "print('Optimal number of trees: ' + str(gridSearch.best_params_['n_estimators']) + '\\n' +\n",
    "                                           'Optimal number of features in each split: ' + \n",
    "                                              str(gridSearch.best_params_['max_features']) + '\\n' +\n",
    "                                           'Optimal alpha: ' + str(gridSearch.best_params_['ccp_alpha']))"
   ]
  },
  {
   "cell_type": "code",
   "execution_count": 74,
   "id": "5de213e1",
   "metadata": {},
   "outputs": [
    {
     "name": "stdout",
     "output_type": "stream",
     "text": [
      "Mean cv score: 0.8249687890137329\n",
      " Std cv score: 0.03342368766640164\n"
     ]
    }
   ],
   "source": [
    "randomForest = RandomForestClassifier(n_estimators = gridSearch.best_params_['n_estimators'], criterion = 'entropy',\n",
    "                                     max_features = gridSearch.best_params_['max_features'],\n",
    "                                     ccp_alpha = gridSearch.best_params_['ccp_alpha'])\n",
    "cross_val_scores = cross_val_score(randomForest, X = X_train, y = y_train, scoring='accuracy', cv = 10)\n",
    "print('Mean cv score: ' + str(np.mean(cross_val_scores)) + \n",
    "      '\\n Std cv score: ' + str(np.std(cross_val_scores)))"
   ]
  },
  {
   "cell_type": "markdown",
   "id": "b75217f5",
   "metadata": {},
   "source": [
    "Now we try XGBoost. Since the implementation is from another library, we will use its own cv function."
   ]
  },
  {
   "cell_type": "code",
   "execution_count": 75,
   "id": "be64062a",
   "metadata": {},
   "outputs": [],
   "source": [
    "import xgboost as xgb"
   ]
  },
  {
   "cell_type": "code",
   "execution_count": 76,
   "id": "e6523ce4",
   "metadata": {},
   "outputs": [],
   "source": [
    "Dmatrix = xgb.DMatrix(data = X_train, label = y_train)\n",
    "eta = [(0.005 * i) for i in range (1,6)]\n",
    "max_depth = [3,4,5]\n",
    "reg_lambda = [(0.1 * i) for i in range(15)]\n",
    "best_score = 100\n",
    "best3 = [0,0,0]\n",
    "for e in eta:\n",
    "    for m in max_depth:\n",
    "        for l in reg_lambda:\n",
    "            param_grid = {'eta' : e, 'max_depth' : m, \n",
    "                'reg_lambda' : l, 'objective' : 'binary:logistic', 'base_score' : prop1}\n",
    "            xgb_cv = xgb.cv(params = param_grid, dtrain = Dmatrix, num_boost_round = 1000, nfold = 5, \n",
    "                   early_stopping_rounds = 5)\n",
    "            if xgb_cv.iloc[-1 ,2] < best_score:\n",
    "                best_score = xgb_cv.iloc[-1 ,2]\n",
    "                best3 = [e,m,l]\n",
    "                \n",
    "\n"
   ]
  },
  {
   "cell_type": "code",
   "execution_count": 77,
   "id": "40ee6975",
   "metadata": {},
   "outputs": [
    {
     "data": {
      "text/plain": [
       "[0.02, 3, 1.4000000000000001]"
      ]
     },
     "execution_count": 77,
     "metadata": {},
     "output_type": "execute_result"
    }
   ],
   "source": [
    "best3"
   ]
  },
  {
   "cell_type": "code",
   "execution_count": 78,
   "id": "054d46bf",
   "metadata": {},
   "outputs": [
    {
     "name": "stdout",
     "output_type": "stream",
     "text": [
      "Mean cv score: 0.8238077403245943\n",
      " Std cv score: 0.03617227223477172\n"
     ]
    }
   ],
   "source": [
    "xgb1 = xgb.XGBClassifier(n_estimators = 1000, eta = best3[0],\n",
    "                                     max_depth = best3[1],  \n",
    "                                      reg_lambda =  best3[2],\n",
    "                                        objective='binary:logistic', grow_policy = 'lossguide',\n",
    "                                        base_score = prop1)\n",
    "cross_val_scores = cross_val_score(xgb1, X = X_train, y = y_train, scoring='accuracy', cv = 10)\n",
    "print('Mean cv score: ' + str(np.mean(cross_val_scores)) +\n",
    "      '\\n Std cv score: ' + str(np.std(cross_val_scores)))"
   ]
  },
  {
   "cell_type": "markdown",
   "id": "c30d4192",
   "metadata": {},
   "source": [
    "We got the best cv score using XGBoost.\n",
    "Lets try submitting its predictions.\n",
    "We use early stopping after 10 rounds without improvement in order to avoid overfitting."
   ]
  },
  {
   "cell_type": "code",
   "execution_count": 79,
   "id": "5b1f4f29",
   "metadata": {},
   "outputs": [],
   "source": [
    "from sklearn. model_selection import train_test_split\n",
    "\n",
    "xgb1 = xgb.XGBClassifier(n_estimators = 1000, eta = best3[0],\n",
    "                                     max_depth = best3[1],  \n",
    "                                      reg_lambda =  best3[2],\n",
    "                                        objective='binary:logistic', grow_policy = 'lossguide',\n",
    "                                        base_score = prop1, early_stopping_rounds = 10)\n",
    "X_train_1, X_val, y_train_1, y_val = train_test_split(X_train, y_train, test_size=0.1)\n",
    "xgb1.fit(X_train_1, y_train_1, eval_set = [(X_val, y_val)], verbose = 0)\n",
    "y_pred = xgb1.predict(test)\n",
    "y_pred = pd.DataFrame({'PassengerId' : test_id, 'Survived' : y_pred})\n",
    "y_pred.to_csv('SurvivalPredictionsXGB.csv', index = False)"
   ]
  },
  {
   "cell_type": "markdown",
   "id": "66e2dec8",
   "metadata": {},
   "source": [
    "We got 78.7% accuracy rate."
   ]
  },
  {
   "cell_type": "code",
   "execution_count": null,
   "id": "bc06b1dd",
   "metadata": {},
   "outputs": [],
   "source": []
  }
 ],
 "metadata": {
  "kernelspec": {
   "display_name": "Python 3 (ipykernel)",
   "language": "python",
   "name": "python3"
  },
  "language_info": {
   "codemirror_mode": {
    "name": "ipython",
    "version": 3
   },
   "file_extension": ".py",
   "mimetype": "text/x-python",
   "name": "python",
   "nbconvert_exporter": "python",
   "pygments_lexer": "ipython3",
   "version": "3.9.7"
  }
 },
 "nbformat": 4,
 "nbformat_minor": 5
}
